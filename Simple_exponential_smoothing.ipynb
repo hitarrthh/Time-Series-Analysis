{
  "nbformat": 4,
  "nbformat_minor": 0,
  "metadata": {
    "colab": {
      "provenance": [],
      "toc_visible": true
    },
    "kernelspec": {
      "name": "python3",
      "display_name": "Python 3"
    },
    "language_info": {
      "name": "python"
    }
  },
  "cells": [
    {
      "cell_type": "markdown",
      "source": [
        "# **Smoothing Methods**"
      ],
      "metadata": {
        "id": "TJCappW1YZlP"
      }
    },
    {
      "cell_type": "markdown",
      "source": [
        "Smoothing is a statistical method we can use to create an approximation function to remove irregularities in data and attempt to capture significant patterns.\n",
        "\n",
        "The smoothing technique is a family of time-series forecasting\n",
        "algorithms, which utilizes the weighted averages of a previous observation\n",
        "to predict or forecast a new value.\n",
        "\n",
        "It is utilized for short-term forecasting models.\n",
        "\n",
        "This technique is more efficient when time-series data is moving slowly over time."
      ],
      "metadata": {
        "id": "rEE7BuVUQr1f"
      }
    },
    {
      "cell_type": "markdown",
      "source": [
        "# **Simple Exponential Smoothing**"
      ],
      "metadata": {
        "id": "d6D9_0btUnmO"
      }
    },
    {
      "cell_type": "markdown",
      "source": [
        "1.   Used for Univariate data\n",
        "2.   Parameter called Alpha which is a smoothing parameter\n",
        "3.   SES is used to forecast future values by using weighted average of all previous values of Time Series.\n",
        "4.   **Used to predict series that have levels but no trends and seasonality.**\n",
        "\n"
      ],
      "metadata": {
        "id": "kttcYNuGYljD"
      }
    },
    {
      "cell_type": "code",
      "execution_count": null,
      "metadata": {
        "id": "gujoc7gaFc2P"
      },
      "outputs": [],
      "source": [
        "from statsmodels.tsa.api import SimpleExpSmoothing\n",
        "import pandas as pd\n",
        "import numpy as np\n",
        "from sklearn import metrics\n",
        "df = pd.read_csv(r'/content/FB.csv')"
      ]
    },
    {
      "cell_type": "code",
      "source": [
        "df.head()"
      ],
      "metadata": {
        "id": "mku9I4RIF0x5",
        "colab": {
          "base_uri": "https://localhost:8080/",
          "height": 206
        },
        "outputId": "a858a3bc-d0ca-467d-e86a-21097a0afbba"
      },
      "execution_count": null,
      "outputs": [
        {
          "output_type": "execute_result",
          "data": {
            "text/plain": [
              "         Date       Open       High        Low      Close  Adj Close    Volume\n",
              "0  2014-12-08  76.180000  77.250000  75.400002  76.519997  76.519997  25733900\n",
              "1  2014-12-09  75.199997  76.930000  74.779999  76.839996  76.839996  25358600\n",
              "2  2014-12-10  76.650002  77.550003  76.070000  76.180000  76.180000  32210500\n",
              "3  2014-12-11  76.519997  78.519997  76.480003  77.730003  77.730003  33462100\n",
              "4  2014-12-12  77.160004  78.879997  77.019997  77.830002  77.830002  28091600"
            ],
            "text/html": [
              "\n",
              "  <div id=\"df-8081616f-90a8-4b44-a440-d43156b9224f\">\n",
              "    <div class=\"colab-df-container\">\n",
              "      <div>\n",
              "<style scoped>\n",
              "    .dataframe tbody tr th:only-of-type {\n",
              "        vertical-align: middle;\n",
              "    }\n",
              "\n",
              "    .dataframe tbody tr th {\n",
              "        vertical-align: top;\n",
              "    }\n",
              "\n",
              "    .dataframe thead th {\n",
              "        text-align: right;\n",
              "    }\n",
              "</style>\n",
              "<table border=\"1\" class=\"dataframe\">\n",
              "  <thead>\n",
              "    <tr style=\"text-align: right;\">\n",
              "      <th></th>\n",
              "      <th>Date</th>\n",
              "      <th>Open</th>\n",
              "      <th>High</th>\n",
              "      <th>Low</th>\n",
              "      <th>Close</th>\n",
              "      <th>Adj Close</th>\n",
              "      <th>Volume</th>\n",
              "    </tr>\n",
              "  </thead>\n",
              "  <tbody>\n",
              "    <tr>\n",
              "      <th>0</th>\n",
              "      <td>2014-12-08</td>\n",
              "      <td>76.180000</td>\n",
              "      <td>77.250000</td>\n",
              "      <td>75.400002</td>\n",
              "      <td>76.519997</td>\n",
              "      <td>76.519997</td>\n",
              "      <td>25733900</td>\n",
              "    </tr>\n",
              "    <tr>\n",
              "      <th>1</th>\n",
              "      <td>2014-12-09</td>\n",
              "      <td>75.199997</td>\n",
              "      <td>76.930000</td>\n",
              "      <td>74.779999</td>\n",
              "      <td>76.839996</td>\n",
              "      <td>76.839996</td>\n",
              "      <td>25358600</td>\n",
              "    </tr>\n",
              "    <tr>\n",
              "      <th>2</th>\n",
              "      <td>2014-12-10</td>\n",
              "      <td>76.650002</td>\n",
              "      <td>77.550003</td>\n",
              "      <td>76.070000</td>\n",
              "      <td>76.180000</td>\n",
              "      <td>76.180000</td>\n",
              "      <td>32210500</td>\n",
              "    </tr>\n",
              "    <tr>\n",
              "      <th>3</th>\n",
              "      <td>2014-12-11</td>\n",
              "      <td>76.519997</td>\n",
              "      <td>78.519997</td>\n",
              "      <td>76.480003</td>\n",
              "      <td>77.730003</td>\n",
              "      <td>77.730003</td>\n",
              "      <td>33462100</td>\n",
              "    </tr>\n",
              "    <tr>\n",
              "      <th>4</th>\n",
              "      <td>2014-12-12</td>\n",
              "      <td>77.160004</td>\n",
              "      <td>78.879997</td>\n",
              "      <td>77.019997</td>\n",
              "      <td>77.830002</td>\n",
              "      <td>77.830002</td>\n",
              "      <td>28091600</td>\n",
              "    </tr>\n",
              "  </tbody>\n",
              "</table>\n",
              "</div>\n",
              "      <button class=\"colab-df-convert\" onclick=\"convertToInteractive('df-8081616f-90a8-4b44-a440-d43156b9224f')\"\n",
              "              title=\"Convert this dataframe to an interactive table.\"\n",
              "              style=\"display:none;\">\n",
              "        \n",
              "  <svg xmlns=\"http://www.w3.org/2000/svg\" height=\"24px\"viewBox=\"0 0 24 24\"\n",
              "       width=\"24px\">\n",
              "    <path d=\"M0 0h24v24H0V0z\" fill=\"none\"/>\n",
              "    <path d=\"M18.56 5.44l.94 2.06.94-2.06 2.06-.94-2.06-.94-.94-2.06-.94 2.06-2.06.94zm-11 1L8.5 8.5l.94-2.06 2.06-.94-2.06-.94L8.5 2.5l-.94 2.06-2.06.94zm10 10l.94 2.06.94-2.06 2.06-.94-2.06-.94-.94-2.06-.94 2.06-2.06.94z\"/><path d=\"M17.41 7.96l-1.37-1.37c-.4-.4-.92-.59-1.43-.59-.52 0-1.04.2-1.43.59L10.3 9.45l-7.72 7.72c-.78.78-.78 2.05 0 2.83L4 21.41c.39.39.9.59 1.41.59.51 0 1.02-.2 1.41-.59l7.78-7.78 2.81-2.81c.8-.78.8-2.07 0-2.86zM5.41 20L4 18.59l7.72-7.72 1.47 1.35L5.41 20z\"/>\n",
              "  </svg>\n",
              "      </button>\n",
              "      \n",
              "  <style>\n",
              "    .colab-df-container {\n",
              "      display:flex;\n",
              "      flex-wrap:wrap;\n",
              "      gap: 12px;\n",
              "    }\n",
              "\n",
              "    .colab-df-convert {\n",
              "      background-color: #E8F0FE;\n",
              "      border: none;\n",
              "      border-radius: 50%;\n",
              "      cursor: pointer;\n",
              "      display: none;\n",
              "      fill: #1967D2;\n",
              "      height: 32px;\n",
              "      padding: 0 0 0 0;\n",
              "      width: 32px;\n",
              "    }\n",
              "\n",
              "    .colab-df-convert:hover {\n",
              "      background-color: #E2EBFA;\n",
              "      box-shadow: 0px 1px 2px rgba(60, 64, 67, 0.3), 0px 1px 3px 1px rgba(60, 64, 67, 0.15);\n",
              "      fill: #174EA6;\n",
              "    }\n",
              "\n",
              "    [theme=dark] .colab-df-convert {\n",
              "      background-color: #3B4455;\n",
              "      fill: #D2E3FC;\n",
              "    }\n",
              "\n",
              "    [theme=dark] .colab-df-convert:hover {\n",
              "      background-color: #434B5C;\n",
              "      box-shadow: 0px 1px 3px 1px rgba(0, 0, 0, 0.15);\n",
              "      filter: drop-shadow(0px 1px 2px rgba(0, 0, 0, 0.3));\n",
              "      fill: #FFFFFF;\n",
              "    }\n",
              "  </style>\n",
              "\n",
              "      <script>\n",
              "        const buttonEl =\n",
              "          document.querySelector('#df-8081616f-90a8-4b44-a440-d43156b9224f button.colab-df-convert');\n",
              "        buttonEl.style.display =\n",
              "          google.colab.kernel.accessAllowed ? 'block' : 'none';\n",
              "\n",
              "        async function convertToInteractive(key) {\n",
              "          const element = document.querySelector('#df-8081616f-90a8-4b44-a440-d43156b9224f');\n",
              "          const dataTable =\n",
              "            await google.colab.kernel.invokeFunction('convertToInteractive',\n",
              "                                                     [key], {});\n",
              "          if (!dataTable) return;\n",
              "\n",
              "          const docLinkHtml = 'Like what you see? Visit the ' +\n",
              "            '<a target=\"_blank\" href=https://colab.research.google.com/notebooks/data_table.ipynb>data table notebook</a>'\n",
              "            + ' to learn more about interactive tables.';\n",
              "          element.innerHTML = '';\n",
              "          dataTable['output_type'] = 'display_data';\n",
              "          await google.colab.output.renderOutput(dataTable, element);\n",
              "          const docLink = document.createElement('div');\n",
              "          docLink.innerHTML = docLinkHtml;\n",
              "          element.appendChild(docLink);\n",
              "        }\n",
              "      </script>\n",
              "    </div>\n",
              "  </div>\n",
              "  "
            ]
          },
          "metadata": {},
          "execution_count": 24
        }
      ]
    },
    {
      "cell_type": "code",
      "source": [
        "#Making a copy of the data for Close column for train/split\n",
        "X = df['Close']\n",
        "test = X.iloc[-30:] #Data expected for last 30 days\n",
        "train = X.iloc[:-30] #Last 30 days to evaluate prediction"
      ],
      "metadata": {
        "id": "SY0UIA6NF8GQ"
      },
      "execution_count": null,
      "outputs": []
    },
    {
      "cell_type": "markdown",
      "source": [
        "**Simple Exponential Algorithm's hyperparameters**"
      ],
      "metadata": {
        "id": "JlnK-G8ba53M"
      }
    },
    {
      "cell_type": "code",
      "source": [
        "#Function for calculating evaluation metrics to understand how far off our forecasts are against the actuals\n",
        "#Closer to 0 better the model\n",
        "#RMSE and MAPE are notable statistics measures used to check the accurcy of forecasting model.\n",
        "\n",
        "def timeseries_evaluation_metrics_func(y_true, y_pred):\n",
        "\n",
        "    def mean_absolute_percentage_error(y_true, y_pred):\n",
        "        y_true, y_pred = np.array(y_true), np.array(y_pred)\n",
        "        return np.mean(np.abs((y_true - y_pred) / y_true)) * 100\n",
        "    print('Evaluation metric results:-')\n",
        "    print(f'MSE is : {metrics.mean_squared_error(y_true, y_pred)}') #how close a regression line is to a set of points.\n",
        "    print(f'MAE is : {metrics.mean_absolute_error(y_true, y_pred)}') # average magnitude of the errors in a set of predictions.\n",
        "    print(f'RMSE is : {np.sqrt(metrics.mean_squared_error(y_true, y_pred))}') #square root of the avg of squared diff bet pred and actual obs\n",
        "    print(f'MAPE is : {mean_absolute_percentage_error(y_true, y_pred)}') #statistical measure of how accurate a forecast is.\n",
        "    print(f'R2 is : {metrics.r2_score(y_true, y_pred)}',end='\\n\\n') #proportion of variance in dependent variable by the independent variable"
      ],
      "metadata": {
        "id": "HAoxS63yGT0q"
      },
      "execution_count": null,
      "outputs": []
    },
    {
      "cell_type": "markdown",
      "source": [
        "**Find the best smoothing parameter which ranges from 0 to 1.**"
      ],
      "metadata": {
        "id": "urvcjisScgoh"
      }
    },
    {
      "cell_type": "code",
      "source": [
        "resu = []\n",
        "temp_df = pd.DataFrame()\n",
        "for i in [0 , 0.10, 0.20, 0.30, 0.40, 0.50, 0.60, 0.70, 0.80, 0.90,1]:\n",
        "    print(f'Fitting for smoothing level= {i}')\n",
        "    fit_v = SimpleExpSmoothing(np.asarray(train)).fit(i)\n",
        "    fcst_pred_v= fit_v.forecast(30)\n",
        "    timeseries_evaluation_metrics_func(test,fcst_pred_v)\n",
        "    rmse = np.sqrt(metrics.mean_squared_error(test, fcst_pred_v))\n",
        "    df3 = {'smoothing parameter':i, 'RMSE': rmse}\n",
        "    temp_df = temp_df.append(df3, ignore_index=True)\n",
        "temp_df.sort_values(by=['RMSE'])"
      ],
      "metadata": {
        "id": "2T2uf9ajGWRa",
        "colab": {
          "base_uri": "https://localhost:8080/",
          "height": 1000
        },
        "outputId": "ab98c050-5296-4a42-f0ca-48cd57f96ffa"
      },
      "execution_count": null,
      "outputs": [
        {
          "output_type": "stream",
          "name": "stdout",
          "text": [
            "Fitting for smoothing level= 0\n",
            "Evaluation metric results:-\n",
            "MSE is : 3060.522993707544\n",
            "MAE is : 55.15632513090639\n",
            "RMSE is : 55.321993761139375\n",
            "MAPE is : 28.209613098240975\n",
            "R2 is : -166.2161839365322\n",
            "\n",
            "Fitting for smoothing level= 0.1\n",
            "Evaluation metric results:-\n",
            "MSE is : 130.19890782430633\n",
            "MAE is : 10.578096050945016\n",
            "RMSE is : 11.41047360210374\n",
            "MAPE is : 5.371184257014935\n",
            "R2 is : -6.113609198116427\n",
            "\n",
            "Fitting for smoothing level= 0.2\n",
            "Evaluation metric results:-\n",
            "MSE is : 108.84519758407878\n",
            "MAE is : 9.515377334756147\n",
            "RMSE is : 10.432890183648958\n",
            "MAPE is : 4.826729569629682\n",
            "R2 is : -4.946917770998036\n",
            "\n",
            "Fitting for smoothing level= 0.3\n",
            "Evaluation metric results:-\n",
            "MSE is : 101.81858360183577\n",
            "MAE is : 9.13869749146715\n",
            "RMSE is : 10.090519491177636\n",
            "MAPE is : 4.633748018445831\n",
            "R2 is : -4.563008361226736\n",
            "\n",
            "Fitting for smoothing level= 0.4\n",
            "Evaluation metric results:-\n",
            "MSE is : 101.76016636355348\n",
            "MAE is : 9.135500785521595\n",
            "RMSE is : 10.087624416261416\n",
            "MAPE is : 4.632110274130487\n",
            "R2 is : -4.55981664932594\n",
            "\n",
            "Fitting for smoothing level= 0.5\n",
            "Evaluation metric results:-\n",
            "MSE is : 102.74142204977626\n",
            "MAE is : 9.189049476876729\n",
            "RMSE is : 10.136144338444291\n",
            "MAPE is : 4.659544472444225\n",
            "R2 is : -4.613428999781581\n",
            "\n",
            "Fitting for smoothing level= 0.6\n",
            "Evaluation metric results:-\n",
            "MSE is : 102.80335052433028\n",
            "MAE is : 9.19241854807768\n",
            "RMSE is : 10.139198712143395\n",
            "MAPE is : 4.6612705233545455\n",
            "R2 is : -4.616812553250457\n",
            "\n",
            "Fitting for smoothing level= 0.7\n",
            "Evaluation metric results:-\n",
            "MSE is : 101.78748505086264\n",
            "MAE is : 9.136995856931033\n",
            "RMSE is : 10.08897839480602\n",
            "MAPE is : 4.6328762328215705\n",
            "R2 is : -4.561309246065577\n",
            "\n",
            "Fitting for smoothing level= 0.8\n",
            "Evaluation metric results:-\n",
            "MSE is : 100.16155507977345\n",
            "MAE is : 9.047583286076213\n",
            "RMSE is : 10.008074494115911\n",
            "MAPE is : 4.58706816284831\n",
            "R2 is : -4.472474166024499\n",
            "\n",
            "Fitting for smoothing level= 0.9\n",
            "Evaluation metric results:-\n",
            "MSE is : 98.5429853240396\n",
            "MAE is : 8.957689074909434\n",
            "RMSE is : 9.926881953767738\n",
            "MAPE is : 4.54101333771634\n",
            "R2 is : -4.384041222195827\n",
            "\n",
            "Fitting for smoothing level= 1\n",
            "Evaluation metric results:-\n",
            "MSE is : 97.57797868071496\n",
            "MAE is : 8.90366143333332\n",
            "RMSE is : 9.878156643864024\n",
            "MAPE is : 4.513333762437967\n",
            "R2 is : -4.331316662144517\n",
            "\n"
          ]
        },
        {
          "output_type": "stream",
          "name": "stderr",
          "text": [
            "/usr/local/lib/python3.7/dist-packages/statsmodels/tsa/holtwinters/model.py:429: FutureWarning: After 0.13 initialization must be handled at model creation\n",
            "  FutureWarning,\n",
            "/usr/local/lib/python3.7/dist-packages/statsmodels/tsa/holtwinters/model.py:429: FutureWarning: After 0.13 initialization must be handled at model creation\n",
            "  FutureWarning,\n",
            "/usr/local/lib/python3.7/dist-packages/statsmodels/tsa/holtwinters/model.py:429: FutureWarning: After 0.13 initialization must be handled at model creation\n",
            "  FutureWarning,\n",
            "/usr/local/lib/python3.7/dist-packages/statsmodels/tsa/holtwinters/model.py:429: FutureWarning: After 0.13 initialization must be handled at model creation\n",
            "  FutureWarning,\n",
            "/usr/local/lib/python3.7/dist-packages/statsmodels/tsa/holtwinters/model.py:429: FutureWarning: After 0.13 initialization must be handled at model creation\n",
            "  FutureWarning,\n",
            "/usr/local/lib/python3.7/dist-packages/statsmodels/tsa/holtwinters/model.py:429: FutureWarning: After 0.13 initialization must be handled at model creation\n",
            "  FutureWarning,\n",
            "/usr/local/lib/python3.7/dist-packages/statsmodels/tsa/holtwinters/model.py:429: FutureWarning: After 0.13 initialization must be handled at model creation\n",
            "  FutureWarning,\n",
            "/usr/local/lib/python3.7/dist-packages/statsmodels/tsa/holtwinters/model.py:429: FutureWarning: After 0.13 initialization must be handled at model creation\n",
            "  FutureWarning,\n",
            "/usr/local/lib/python3.7/dist-packages/statsmodels/tsa/holtwinters/model.py:429: FutureWarning: After 0.13 initialization must be handled at model creation\n",
            "  FutureWarning,\n",
            "/usr/local/lib/python3.7/dist-packages/statsmodels/tsa/holtwinters/model.py:429: FutureWarning: After 0.13 initialization must be handled at model creation\n",
            "  FutureWarning,\n",
            "/usr/local/lib/python3.7/dist-packages/statsmodels/tsa/holtwinters/model.py:429: FutureWarning: After 0.13 initialization must be handled at model creation\n",
            "  FutureWarning,\n"
          ]
        },
        {
          "output_type": "execute_result",
          "data": {
            "text/plain": [
              "    smoothing parameter       RMSE\n",
              "10                  1.0   9.878157\n",
              "9                   0.9   9.926882\n",
              "8                   0.8  10.008074\n",
              "4                   0.4  10.087624\n",
              "7                   0.7  10.088978\n",
              "3                   0.3  10.090519\n",
              "5                   0.5  10.136144\n",
              "6                   0.6  10.139199\n",
              "2                   0.2  10.432890\n",
              "1                   0.1  11.410474\n",
              "0                   0.0  55.321994"
            ],
            "text/html": [
              "\n",
              "  <div id=\"df-68c9ac2b-880f-4a20-a559-8e764ed79e0d\">\n",
              "    <div class=\"colab-df-container\">\n",
              "      <div>\n",
              "<style scoped>\n",
              "    .dataframe tbody tr th:only-of-type {\n",
              "        vertical-align: middle;\n",
              "    }\n",
              "\n",
              "    .dataframe tbody tr th {\n",
              "        vertical-align: top;\n",
              "    }\n",
              "\n",
              "    .dataframe thead th {\n",
              "        text-align: right;\n",
              "    }\n",
              "</style>\n",
              "<table border=\"1\" class=\"dataframe\">\n",
              "  <thead>\n",
              "    <tr style=\"text-align: right;\">\n",
              "      <th></th>\n",
              "      <th>smoothing parameter</th>\n",
              "      <th>RMSE</th>\n",
              "    </tr>\n",
              "  </thead>\n",
              "  <tbody>\n",
              "    <tr>\n",
              "      <th>10</th>\n",
              "      <td>1.0</td>\n",
              "      <td>9.878157</td>\n",
              "    </tr>\n",
              "    <tr>\n",
              "      <th>9</th>\n",
              "      <td>0.9</td>\n",
              "      <td>9.926882</td>\n",
              "    </tr>\n",
              "    <tr>\n",
              "      <th>8</th>\n",
              "      <td>0.8</td>\n",
              "      <td>10.008074</td>\n",
              "    </tr>\n",
              "    <tr>\n",
              "      <th>4</th>\n",
              "      <td>0.4</td>\n",
              "      <td>10.087624</td>\n",
              "    </tr>\n",
              "    <tr>\n",
              "      <th>7</th>\n",
              "      <td>0.7</td>\n",
              "      <td>10.088978</td>\n",
              "    </tr>\n",
              "    <tr>\n",
              "      <th>3</th>\n",
              "      <td>0.3</td>\n",
              "      <td>10.090519</td>\n",
              "    </tr>\n",
              "    <tr>\n",
              "      <th>5</th>\n",
              "      <td>0.5</td>\n",
              "      <td>10.136144</td>\n",
              "    </tr>\n",
              "    <tr>\n",
              "      <th>6</th>\n",
              "      <td>0.6</td>\n",
              "      <td>10.139199</td>\n",
              "    </tr>\n",
              "    <tr>\n",
              "      <th>2</th>\n",
              "      <td>0.2</td>\n",
              "      <td>10.432890</td>\n",
              "    </tr>\n",
              "    <tr>\n",
              "      <th>1</th>\n",
              "      <td>0.1</td>\n",
              "      <td>11.410474</td>\n",
              "    </tr>\n",
              "    <tr>\n",
              "      <th>0</th>\n",
              "      <td>0.0</td>\n",
              "      <td>55.321994</td>\n",
              "    </tr>\n",
              "  </tbody>\n",
              "</table>\n",
              "</div>\n",
              "      <button class=\"colab-df-convert\" onclick=\"convertToInteractive('df-68c9ac2b-880f-4a20-a559-8e764ed79e0d')\"\n",
              "              title=\"Convert this dataframe to an interactive table.\"\n",
              "              style=\"display:none;\">\n",
              "        \n",
              "  <svg xmlns=\"http://www.w3.org/2000/svg\" height=\"24px\"viewBox=\"0 0 24 24\"\n",
              "       width=\"24px\">\n",
              "    <path d=\"M0 0h24v24H0V0z\" fill=\"none\"/>\n",
              "    <path d=\"M18.56 5.44l.94 2.06.94-2.06 2.06-.94-2.06-.94-.94-2.06-.94 2.06-2.06.94zm-11 1L8.5 8.5l.94-2.06 2.06-.94-2.06-.94L8.5 2.5l-.94 2.06-2.06.94zm10 10l.94 2.06.94-2.06 2.06-.94-2.06-.94-.94-2.06-.94 2.06-2.06.94z\"/><path d=\"M17.41 7.96l-1.37-1.37c-.4-.4-.92-.59-1.43-.59-.52 0-1.04.2-1.43.59L10.3 9.45l-7.72 7.72c-.78.78-.78 2.05 0 2.83L4 21.41c.39.39.9.59 1.41.59.51 0 1.02-.2 1.41-.59l7.78-7.78 2.81-2.81c.8-.78.8-2.07 0-2.86zM5.41 20L4 18.59l7.72-7.72 1.47 1.35L5.41 20z\"/>\n",
              "  </svg>\n",
              "      </button>\n",
              "      \n",
              "  <style>\n",
              "    .colab-df-container {\n",
              "      display:flex;\n",
              "      flex-wrap:wrap;\n",
              "      gap: 12px;\n",
              "    }\n",
              "\n",
              "    .colab-df-convert {\n",
              "      background-color: #E8F0FE;\n",
              "      border: none;\n",
              "      border-radius: 50%;\n",
              "      cursor: pointer;\n",
              "      display: none;\n",
              "      fill: #1967D2;\n",
              "      height: 32px;\n",
              "      padding: 0 0 0 0;\n",
              "      width: 32px;\n",
              "    }\n",
              "\n",
              "    .colab-df-convert:hover {\n",
              "      background-color: #E2EBFA;\n",
              "      box-shadow: 0px 1px 2px rgba(60, 64, 67, 0.3), 0px 1px 3px 1px rgba(60, 64, 67, 0.15);\n",
              "      fill: #174EA6;\n",
              "    }\n",
              "\n",
              "    [theme=dark] .colab-df-convert {\n",
              "      background-color: #3B4455;\n",
              "      fill: #D2E3FC;\n",
              "    }\n",
              "\n",
              "    [theme=dark] .colab-df-convert:hover {\n",
              "      background-color: #434B5C;\n",
              "      box-shadow: 0px 1px 3px 1px rgba(0, 0, 0, 0.15);\n",
              "      filter: drop-shadow(0px 1px 2px rgba(0, 0, 0, 0.3));\n",
              "      fill: #FFFFFF;\n",
              "    }\n",
              "  </style>\n",
              "\n",
              "      <script>\n",
              "        const buttonEl =\n",
              "          document.querySelector('#df-68c9ac2b-880f-4a20-a559-8e764ed79e0d button.colab-df-convert');\n",
              "        buttonEl.style.display =\n",
              "          google.colab.kernel.accessAllowed ? 'block' : 'none';\n",
              "\n",
              "        async function convertToInteractive(key) {\n",
              "          const element = document.querySelector('#df-68c9ac2b-880f-4a20-a559-8e764ed79e0d');\n",
              "          const dataTable =\n",
              "            await google.colab.kernel.invokeFunction('convertToInteractive',\n",
              "                                                     [key], {});\n",
              "          if (!dataTable) return;\n",
              "\n",
              "          const docLinkHtml = 'Like what you see? Visit the ' +\n",
              "            '<a target=\"_blank\" href=https://colab.research.google.com/notebooks/data_table.ipynb>data table notebook</a>'\n",
              "            + ' to learn more about interactive tables.';\n",
              "          element.innerHTML = '';\n",
              "          dataTable['output_type'] = 'display_data';\n",
              "          await google.colab.output.renderOutput(dataTable, element);\n",
              "          const docLink = document.createElement('div');\n",
              "          docLink.innerHTML = docLinkHtml;\n",
              "          element.appendChild(docLink);\n",
              "        }\n",
              "      </script>\n",
              "    </div>\n",
              "  </div>\n",
              "  "
            ]
          },
          "metadata": {},
          "execution_count": 27
        }
      ]
    },
    {
      "cell_type": "markdown",
      "source": [
        "The above result shows that 1.0 gives the least RMSE."
      ],
      "metadata": {
        "id": "GFFryjtzdH69"
      }
    },
    {
      "cell_type": "code",
      "source": [
        "#using values from grid search\n",
        "fitSES = SimpleExpSmoothing(np.asarray(train)).fit( smoothing_level = 1.0,optimized= False)\n",
        "fcst_gs_pred = fitSES.forecast(30)\n",
        "timeseries_evaluation_metrics_func(test,fcst_gs_pred)"
      ],
      "metadata": {
        "id": "_SG82h-6GZxB",
        "colab": {
          "base_uri": "https://localhost:8080/"
        },
        "outputId": "e758d801-b4c9-407a-ccd3-ad723bc2cd8f"
      },
      "execution_count": null,
      "outputs": [
        {
          "output_type": "stream",
          "name": "stdout",
          "text": [
            "Evaluation metric results:-\n",
            "MSE is : 97.57797868071496\n"
          ]
        },
        {
          "output_type": "stream",
          "name": "stderr",
          "text": [
            "/usr/local/lib/python3.7/dist-packages/statsmodels/tsa/holtwinters/model.py:429: FutureWarning: After 0.13 initialization must be handled at model creation\n",
            "  FutureWarning,\n"
          ]
        },
        {
          "output_type": "stream",
          "name": "stdout",
          "text": [
            "MAE is : 8.90366143333332\n",
            "RMSE is : 9.878156643864024\n",
            "MAPE is : 4.513333762437967\n",
            "R2 is : -4.331316662144517\n",
            "\n"
          ]
        }
      ]
    },
    {
      "cell_type": "code",
      "source": [
        "#Automated smoothing_level\n",
        "fitSESauto = SimpleExpSmoothing(np.asarray(train)).fit( optimized= True, use_brute = True)\n",
        "fcst_auto_pred = fitSESauto.forecast(30)\n",
        "timeseries_evaluation_metrics_func(test,fcst_auto_pred)"
      ],
      "metadata": {
        "id": "rV7ljed2GcT7",
        "colab": {
          "base_uri": "https://localhost:8080/"
        },
        "outputId": "5cece682-3421-4e6b-c4d6-53c17f422253"
      },
      "execution_count": null,
      "outputs": [
        {
          "output_type": "stream",
          "name": "stdout",
          "text": [
            "Evaluation metric results:-\n",
            "MSE is : 97.68044567880288\n",
            "MAE is : 8.909413780800344\n",
            "RMSE is : 9.88334182747935\n",
            "MAPE is : 4.5162808193535735\n",
            "R2 is : -4.3369150975867345\n",
            "\n"
          ]
        },
        {
          "output_type": "stream",
          "name": "stderr",
          "text": [
            "/usr/local/lib/python3.7/dist-packages/statsmodels/tsa/holtwinters/model.py:429: FutureWarning: After 0.13 initialization must be handled at model creation\n",
            "  FutureWarning,\n"
          ]
        }
      ]
    },
    {
      "cell_type": "code",
      "source": [
        "fitSESauto.summary()"
      ],
      "metadata": {
        "id": "pCOejRQBGeSj",
        "colab": {
          "base_uri": "https://localhost:8080/",
          "height": 273
        },
        "outputId": "e403f85a-990d-4231-c594-f8bf6a150454"
      },
      "execution_count": null,
      "outputs": [
        {
          "output_type": "execute_result",
          "data": {
            "text/plain": [
              "<class 'statsmodels.iolib.summary.Summary'>\n",
              "\"\"\"\n",
              "                       SimpleExpSmoothing Model Results                       \n",
              "==============================================================================\n",
              "Dep. Variable:                  endog   No. Observations:                 1229\n",
              "Model:             SimpleExpSmoothing   SSE                           8965.774\n",
              "Optimized:                       True   AIC                           2446.285\n",
              "Trend:                           None   BIC                           2456.513\n",
              "Seasonal:                        None   AICC                          2446.318\n",
              "Seasonal Periods:                None   Date:                 Tue, 01 Nov 2022\n",
              "Box-Cox:                        False   Time:                         04:37:12\n",
              "Box-Cox Coeff.:                  None                                         \n",
              "==============================================================================\n",
              "                       coeff                 code              optimized      \n",
              "------------------------------------------------------------------------------\n",
              "smoothing_level            0.9808445                alpha                 True\n",
              "initial_level              76.525895                  l.0                 True\n",
              "------------------------------------------------------------------------------\n",
              "\"\"\""
            ],
            "text/html": [
              "<table class=\"simpletable\">\n",
              "<caption>SimpleExpSmoothing Model Results</caption>\n",
              "<tr>\n",
              "  <th>Dep. Variable:</th>           <td>endog</td>       <th>  No. Observations:  </th>       <td>1229</td>      \n",
              "</tr>\n",
              "<tr>\n",
              "  <th>Model:</th>            <td>SimpleExpSmoothing</td> <th>  SSE                </th>     <td>8965.774</td>    \n",
              "</tr>\n",
              "<tr>\n",
              "  <th>Optimized:</th>               <td>True</td>        <th>  AIC                </th>     <td>2446.285</td>    \n",
              "</tr>\n",
              "<tr>\n",
              "  <th>Trend:</th>                   <td>None</td>        <th>  BIC                </th>     <td>2456.513</td>    \n",
              "</tr>\n",
              "<tr>\n",
              "  <th>Seasonal:</th>                <td>None</td>        <th>  AICC               </th>     <td>2446.318</td>    \n",
              "</tr>\n",
              "<tr>\n",
              "  <th>Seasonal Periods:</th>        <td>None</td>        <th>  Date:              </th> <td>Tue, 01 Nov 2022</td>\n",
              "</tr>\n",
              "<tr>\n",
              "  <th>Box-Cox:</th>                 <td>False</td>       <th>  Time:              </th>     <td>04:37:12</td>    \n",
              "</tr>\n",
              "<tr>\n",
              "  <th>Box-Cox Coeff.:</th>          <td>None</td>        <th>                     </th>         <td> </td>       \n",
              "</tr>\n",
              "</table>\n",
              "<table class=\"simpletable\">\n",
              "<tr>\n",
              "         <td></td>                 <th>coeff</th>                <th>code</th>               <th>optimized</th>     \n",
              "</tr>\n",
              "<tr>\n",
              "  <th>smoothing_level</th> <td>           0.9808445</td> <td>               alpha</td> <td>                True</td>\n",
              "</tr>\n",
              "<tr>\n",
              "  <th>initial_level</th>   <td>           76.525895</td> <td>                 l.0</td> <td>                True</td>\n",
              "</tr>\n",
              "</table>"
            ]
          },
          "metadata": {},
          "execution_count": 30
        }
      ]
    },
    {
      "cell_type": "markdown",
      "source": [
        "# **Summary Result Explained**\n",
        "\n",
        "**Dep. Variable: endog**:\n",
        "This denotes the dependent variable or the time series data being modeled. “endog” refers to the endogenous variable, which is the data you are forecasting.\n",
        "\n",
        "**No. Observations: 1229**: This indicates the number of data points (time periods) used in the model. Here, you have 1,229 observations.\n",
        "\n",
        "**Model: SimpleExpSmoothing**: This confirms that the model being used is Simple Exponential Smoothing.\n",
        "\n",
        "**SSE: 8965.774**: SSE stands for Sum of Squared Errors, which measures the discrepancy between the actual values and the values predicted by the model. **A lower SSE indicates a better fit.**\n",
        "\n",
        "**Optimized: True**: This indicates that the model parameters were optimized during the fitting process to minimize the error.\n",
        "\n",
        "**AIC: 2446.285**: AIC stands for Akaike Information Criterion. It is a measure used to compare different models, considering both the goodness of fit and the model complexity. Lower AIC values suggest a better model.\n",
        "\n",
        "**BIC: 2456.513**: BIC stands for Bayesian Information Criterion. Like AIC, it is used for model comparison, but it includes a stronger penalty for the number of parameters. Lower BIC values indicate a better model.\n",
        "\n",
        "**AICC: 2446.318**: AICC is a version of AIC that includes a correction for small sample sizes. It is useful when the sample size is small relative to the number of parameters.\n",
        "\n",
        "**Trend: None**: Indicates that the model does not account for any trend in the data. Simple Exponential Smoothing assumes no trend.\n",
        "\n",
        "**Seasonal: None**: Indicates that the model does not account for seasonality. Simple Exponential Smoothing assumes no seasonal patterns.\n",
        "\n",
        "**Seasonal Periods: None**: This further confirms that the model does not include any seasonal effects.\n",
        "\n",
        "**Box-Cox: False**: Box-Cox transformations are used to stabilize variance and make the data more normally distributed. Here, it was not applied.\n",
        "\n",
        "**Box-Cox Coeff.: None**: Since Box-Cox was not used, there are no coefficients for this transformation.\n",
        "\n",
        "**coeff**: Lists the coefficients used in the model.\n",
        "\n",
        "**smoothing_level: 0.9808445**: This is the smoothing parameter (often denoted as alpha) used in the model. It controls the weight given to the most recent observation. A value close to 1 indicates that the model relies heavily on recent data.\n",
        "\n",
        "**initial_level: 76.525895**: This is the initial level of the time series used to start the smoothing process."
      ],
      "metadata": {
        "id": "0RuqNN6-iW7S"
      }
    },
    {
      "cell_type": "code",
      "source": [
        "df_fcst_gs_pred = pd.DataFrame(fcst_gs_pred, columns=['Close_grid_Search'])\n",
        "df_fcst_gs_pred[\"new_index\"] = range(1229, 1259)\n",
        "df_fcst_gs_pred = df_fcst_gs_pred.set_index(\"new_index\")"
      ],
      "metadata": {
        "id": "ZkDhy4EzGnQq"
      },
      "execution_count": null,
      "outputs": []
    },
    {
      "cell_type": "code",
      "source": [
        "df_fcst_auto_pred = pd.DataFrame(fcst_auto_pred, columns=['Close_auto_search'])\n",
        "df_fcst_auto_pred[\"new_index\"] = range(1229, 1259)\n",
        "df_fcst_auto_pred = df_fcst_auto_pred.set_index(\"new_index\")"
      ],
      "metadata": {
        "id": "pqNgIy4sGoij"
      },
      "execution_count": null,
      "outputs": []
    },
    {
      "cell_type": "code",
      "source": [
        "import matplotlib.pyplot as plt\n",
        "%matplotlib inline\n",
        "plt.rcParams[\"figure.figsize\"] = [16,9]\n",
        "plt.plot( train, label='Train')\n",
        "plt.plot(test, label='Test')\n",
        "plt.plot(df_fcst_auto_pred, label='Simple Exponential Smoothing using optimized =True')\n",
        "plt.plot(df_fcst_gs_pred, label='Simple Exponential Smoothing using custom grid search')\n",
        "plt.legend(loc='best')\n",
        "plt.show()"
      ],
      "metadata": {
        "id": "81g8pfDuL-2g",
        "colab": {
          "base_uri": "https://localhost:8080/",
          "height": 537
        },
        "outputId": "d0a2fe8e-b77e-47a4-f27e-e4c6b052075b"
      },
      "execution_count": null,
      "outputs": [
        {
          "output_type": "display_data",
          "data": {
            "text/plain": [
              "<Figure size 1152x648 with 1 Axes>"
            ],
            "image/png": "[encoded data removed]"
          },
          "metadata": {
            "needs_background": "light"
          }
        }
      ]
    }
  ]
}